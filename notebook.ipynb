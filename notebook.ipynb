{
 "cells": [
  {
   "cell_type": "code",
   "execution_count": 6,
   "metadata": {},
   "outputs": [],
   "source": [
    "from pprint import pprint\n",
    "import requests\n",
    "\n",
    "\n",
    "SERVER_URL = \"https://api.upbit.com\""
   ]
  },
  {
   "cell_type": "code",
   "execution_count": 7,
   "metadata": {},
   "outputs": [
    {
     "name": "stdout",
     "output_type": "stream",
     "text": [
      "[{'acc_trade_price': 151963310120.48718,\n",
      "  'acc_trade_price_24h': 601696670919.7009,\n",
      "  'acc_trade_volume': 1071.63297828,\n",
      "  'acc_trade_volume_24h': 4224.6553763,\n",
      "  'change': 'FALL',\n",
      "  'change_price': 827000.0,\n",
      "  'change_rate': 0.0057872233,\n",
      "  'high_price': 143000000.0,\n",
      "  'highest_52_week_date': '2024-12-17',\n",
      "  'highest_52_week_price': 157198000.0,\n",
      "  'low_price': 141000000.0,\n",
      "  'lowest_52_week_date': '2024-01-23',\n",
      "  'lowest_52_week_price': 53125000.0,\n",
      "  'market': 'KRW-BTC',\n",
      "  'opening_price': 142901000.0,\n",
      "  'prev_closing_price': 142901000.0,\n",
      "  'signed_change_price': -827000.0,\n",
      "  'signed_change_rate': -0.0057872233,\n",
      "  'timestamp': 1735029429628,\n",
      "  'trade_date': '20241224',\n",
      "  'trade_date_kst': '20241224',\n",
      "  'trade_price': 142074000.0,\n",
      "  'trade_time': '083709',\n",
      "  'trade_time_kst': '173709',\n",
      "  'trade_timestamp': 1735029429586,\n",
      "  'trade_volume': 0.00014077}]\n"
     ]
    }
   ],
   "source": [
    "params = {\n",
    "    \"markets\": \"KRW-BTC\"\n",
    "}\n",
    "\n",
    "res = requests.get(SERVER_URL + \"/v1/ticker\", params=params)\n",
    "pprint(res.json())"
   ]
  },
  {
   "cell_type": "code",
   "execution_count": 11,
   "metadata": {},
   "outputs": [
    {
     "name": "stdout",
     "output_type": "stream",
     "text": [
      "'[{\"market\":\"KRW-BTC\",\"timestamp\":1735029536353,\"total_ask_size\":1.30011378,\"total_bid_size\":1.82244774,\"orderbook_units\":[{\"ask_price\":142034000,\"bid_price\":142033000,\"ask_size\":0.04983297,\"bid_size\":0.45985487},{\"ask_price\":142069000,\"bid_price\":142031000,\"ask_size\":0.50023971,\"bid_size\":0.03703766},{\"ask_price\":142070000,\"bid_price\":142030000,\"ask_size\":0.62391107,\"bid_size\":0.03232834},{\"ask_price\":142071000,\"bid_price\":142023000,\"ask_size\":0.00006335,\"bid_size\":0.0005035},{\"ask_price\":142072000,\"bid_price\":142016000,\"ask_size\":0.06778749,\"bid_size\":0.00084496},{\"ask_price\":142073000,\"bid_price\":142015000,\"ask_size\":0.00562705,\"bid_size\":0.04624172},{\"ask_price\":142074000,\"bid_price\":142007000,\"ask_size\":0.00632137,\"bid_size\":0.08677121},{\"ask_price\":142077000,\"bid_price\":142002000,\"ask_size\":0.00307964,\"bid_size\":0.00023344},{\"ask_price\":142092000,\"bid_price\":142001000,\"ask_size\":0.00496235,\"bid_size\":0.00359001},{\"ask_price\":142106000,\"bid_price\":142000000,\"ask_size\":0.00071137,\"bid_size\":1.10247919},{\"ask_price\":142112000,\"bid_price\":141999000,\"ask_size\":0.00070368,\"bid_size\":0.03766599},{\"ask_price\":142113000,\"bid_price\":141998000,\"ask_size\":0.02110997,\"bid_size\":0.00338531},{\"ask_price\":142114000,\"bid_price\":141997000,\"ask_size\":0.01507496,\"bid_size\":0.00207802},{\"ask_price\":142115000,\"bid_price\":141996000,\"ask_size\":0.00032627,\"bid_size\":0.00174229},{\"ask_price\":142117000,\"bid_price\":141995000,\"ask_size\":0.00036253,\"bid_size\":0.00769123}],\"level\":0}]'\n"
     ]
    }
   ],
   "source": [
    "headers = {\"accept\": \"application/json\"}\n",
    "response = requests.get(\n",
    "    SERVER_URL + \"/v1/orderbook?markets=KRW-BTC&level=0\", headers=headers\n",
    ")\n",
    "pprint(response.text)"
   ]
  },
  {
   "cell_type": "code",
   "execution_count": null,
   "metadata": {},
   "outputs": [],
   "source": []
  }
 ],
 "metadata": {
  "kernelspec": {
   "display_name": "Airflow",
   "language": "python",
   "name": "python3"
  },
  "language_info": {
   "codemirror_mode": {
    "name": "ipython",
    "version": 3
   },
   "file_extension": ".py",
   "mimetype": "text/x-python",
   "name": "python",
   "nbconvert_exporter": "python",
   "pygments_lexer": "ipython3",
   "version": "3.11.10"
  }
 },
 "nbformat": 4,
 "nbformat_minor": 2
}
